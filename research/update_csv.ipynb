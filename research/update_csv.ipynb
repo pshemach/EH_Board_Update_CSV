{
 "cells": [
  {
   "cell_type": "code",
   "execution_count": 12,
   "metadata": {},
   "outputs": [],
   "source": [
    "import os\n",
    "import pandas as pd\n",
    "import requests\n",
    "from tqdm import tqdm\n",
    "from concurrent.futures import ThreadPoolExecutor, as_completed"
   ]
  },
  {
   "cell_type": "code",
   "execution_count": 13,
   "metadata": {},
   "outputs": [],
   "source": [
    "API_ENDPOINT = \"http://127.0.0.1:5050/predict\"\n",
    "IMAGES_DIR = 'save/images'\n",
    "OUTPUT_CSV = 'csv_files'\n",
    "DF_SPLITS_ROW = 500"
   ]
  },
  {
   "cell_type": "code",
   "execution_count": 14,
   "metadata": {},
   "outputs": [
    {
     "data": {
      "text/html": [
       "<div>\n",
       "<style scoped>\n",
       "    .dataframe tbody tr th:only-of-type {\n",
       "        vertical-align: middle;\n",
       "    }\n",
       "\n",
       "    .dataframe tbody tr th {\n",
       "        vertical-align: top;\n",
       "    }\n",
       "\n",
       "    .dataframe thead th {\n",
       "        text-align: right;\n",
       "    }\n",
       "</style>\n",
       "<table border=\"1\" class=\"dataframe\">\n",
       "  <thead>\n",
       "    <tr style=\"text-align: right;\">\n",
       "      <th></th>\n",
       "      <th>Date</th>\n",
       "      <th>Time</th>\n",
       "      <th>Longitude</th>\n",
       "      <th>Latitude</th>\n",
       "      <th>Image</th>\n",
       "      <th>CustomerName</th>\n",
       "      <th>UserName</th>\n",
       "      <th>Category</th>\n",
       "      <th>NodeName</th>\n",
       "    </tr>\n",
       "  </thead>\n",
       "  <tbody>\n",
       "    <tr>\n",
       "      <th>0</th>\n",
       "      <td>14/08/2024 12:00:00 AM</td>\n",
       "      <td>11:50:00</td>\n",
       "      <td>79.82594</td>\n",
       "      <td>7.45958</td>\n",
       "      <td>https://surge.lk/Myfiles/RetailerImages/134975...</td>\n",
       "      <td>K.N.D.Super.</td>\n",
       "      <td>Sudarshana Megasooriya</td>\n",
       "      <td>1M  Visibility</td>\n",
       "      <td>Mahendra Amarasinghe\\t</td>\n",
       "    </tr>\n",
       "    <tr>\n",
       "      <th>1</th>\n",
       "      <td>14/08/2024 12:00:00 AM</td>\n",
       "      <td>12:07:00</td>\n",
       "      <td>79.83018</td>\n",
       "      <td>7.48286</td>\n",
       "      <td>https://surge.lk/Myfiles/RetailerImages/134845...</td>\n",
       "      <td>Best Buy</td>\n",
       "      <td>Sudarshana Megasooriya</td>\n",
       "      <td>5M Visibility</td>\n",
       "      <td>Mahendra Amarasinghe\\t</td>\n",
       "    </tr>\n",
       "    <tr>\n",
       "      <th>2</th>\n",
       "      <td>14/08/2024 12:00:00 AM</td>\n",
       "      <td>12:49:00</td>\n",
       "      <td>80.11998</td>\n",
       "      <td>6.26764</td>\n",
       "      <td>https://surge.lk/Myfiles/RetailerImages/135173...</td>\n",
       "      <td>Sanka Food Mart</td>\n",
       "      <td>Shehan Sankalpa</td>\n",
       "      <td>5M Visibility</td>\n",
       "      <td>Mahendra Amarasinghe\\t</td>\n",
       "    </tr>\n",
       "    <tr>\n",
       "      <th>3</th>\n",
       "      <td>14/08/2024 12:00:00 AM</td>\n",
       "      <td>12:50:00</td>\n",
       "      <td>80.13600</td>\n",
       "      <td>6.27310</td>\n",
       "      <td>https://surge.lk/Myfiles/RetailerImages/135173...</td>\n",
       "      <td>Sanka Food Mart</td>\n",
       "      <td>Shehan Sankalpa</td>\n",
       "      <td>Freezer Planogram</td>\n",
       "      <td>Mahendra Amarasinghe\\t</td>\n",
       "    </tr>\n",
       "    <tr>\n",
       "      <th>4</th>\n",
       "      <td>14/08/2024 12:00:00 AM</td>\n",
       "      <td>12:56:00</td>\n",
       "      <td>80.11998</td>\n",
       "      <td>6.26764</td>\n",
       "      <td>https://surge.lk/Myfiles/RetailerImages/135173...</td>\n",
       "      <td>Sanka Food Mart</td>\n",
       "      <td>Shehan Sankalpa</td>\n",
       "      <td>1M  Visibility</td>\n",
       "      <td>Mahendra Amarasinghe\\t</td>\n",
       "    </tr>\n",
       "  </tbody>\n",
       "</table>\n",
       "</div>"
      ],
      "text/plain": [
       "                     Date      Time  Longitude  Latitude  \\\n",
       "0  14/08/2024 12:00:00 AM  11:50:00   79.82594   7.45958   \n",
       "1  14/08/2024 12:00:00 AM  12:07:00   79.83018   7.48286   \n",
       "2  14/08/2024 12:00:00 AM  12:49:00   80.11998   6.26764   \n",
       "3  14/08/2024 12:00:00 AM  12:50:00   80.13600   6.27310   \n",
       "4  14/08/2024 12:00:00 AM  12:56:00   80.11998   6.26764   \n",
       "\n",
       "                                               Image     CustomerName  \\\n",
       "0  https://surge.lk/Myfiles/RetailerImages/134975...     K.N.D.Super.   \n",
       "1  https://surge.lk/Myfiles/RetailerImages/134845...         Best Buy   \n",
       "2  https://surge.lk/Myfiles/RetailerImages/135173...  Sanka Food Mart   \n",
       "3  https://surge.lk/Myfiles/RetailerImages/135173...  Sanka Food Mart   \n",
       "4  https://surge.lk/Myfiles/RetailerImages/135173...  Sanka Food Mart   \n",
       "\n",
       "                 UserName           Category                NodeName  \n",
       "0  Sudarshana Megasooriya     1M  Visibility  Mahendra Amarasinghe\\t  \n",
       "1  Sudarshana Megasooriya      5M Visibility  Mahendra Amarasinghe\\t  \n",
       "2         Shehan Sankalpa      5M Visibility  Mahendra Amarasinghe\\t  \n",
       "3         Shehan Sankalpa  Freezer Planogram  Mahendra Amarasinghe\\t  \n",
       "4         Shehan Sankalpa     1M  Visibility  Mahendra Amarasinghe\\t  "
      ]
     },
     "execution_count": 14,
     "metadata": {},
     "output_type": "execute_result"
    }
   ],
   "source": [
    "df = pd.read_csv('../data/01.08 to 10.09 - Merch Images.csv')\n",
    "df.head()"
   ]
  },
  {
   "cell_type": "code",
   "execution_count": 15,
   "metadata": {},
   "outputs": [],
   "source": [
    "if not os.path.exists(IMAGES_DIR):\n",
    "    os.makedirs(IMAGES_DIR)\n",
    "\n",
    "if not os.path.exists(OUTPUT_CSV):\n",
    "            os.makedirs(OUTPUT_CSV)"
   ]
  },
  {
   "cell_type": "code",
   "execution_count": 16,
   "metadata": {},
   "outputs": [],
   "source": [
    "def download_image(url, filename):\n",
    "    try:\n",
    "        response = requests.get(url, stream=True)\n",
    "        if response.status_code == 200:\n",
    "            with open(filename, 'wb') as f:\n",
    "                f.write(response.content)\n",
    "        else:\n",
    "            print(f\"Error downloading image from {url}\")\n",
    "            return False\n",
    "    except Exception as e:\n",
    "        print(f\"Exception occurred while downloading image from {url}: {e}\")\n",
    "        return False\n",
    "    return True"
   ]
  },
  {
   "cell_type": "code",
   "execution_count": 17,
   "metadata": {},
   "outputs": [],
   "source": [
    "def get_prediction(image_path):\n",
    "    try:\n",
    "        with open(image_path, 'rb') as f:\n",
    "            files = {'image': f}\n",
    "            response = requests.post(API_ENDPOINT, files=files)\n",
    "            if response.status_code == 200:\n",
    "                return response.json().get('board_types')\n",
    "            else:\n",
    "                print(f\"Error with API response: {response.status_code}\")\n",
    "                return 'Error'\n",
    "    except FileNotFoundError:\n",
    "        print(f\"File not found for prediction: {image_path}\")\n",
    "        return 'File not found'\n",
    "    except Exception as e:\n",
    "        print(f\"Exception occurred while getting prediction: {e}\")\n",
    "        return 'Error'"
   ]
  },
  {
   "cell_type": "code",
   "execution_count": 18,
   "metadata": {},
   "outputs": [],
   "source": [
    "def process_image(row):\n",
    "    image_url = row['Image']\n",
    "    image_name = os.path.basename(image_url)\n",
    "    image_path = os.path.join(IMAGES_DIR, image_name)\n",
    "\n",
    "    if download_image(image_url, image_path):\n",
    "        prediction = get_prediction(image_path)\n",
    "        os.remove(image_path)\n",
    "    else:\n",
    "        prediction = 'link not working'\n",
    "    \n",
    "    return prediction"
   ]
  },
  {
   "cell_type": "code",
   "execution_count": 19,
   "metadata": {},
   "outputs": [],
   "source": [
    "def predictions_df(df):\n",
    "    predictions = []\n",
    "    for index, row in tqdm(df.iterrows(), total=df.shape[0]):\n",
    "        image_url = row['Image']\n",
    "        image_name = os.path.basename(image_url)\n",
    "        image_path = os.path.join(IMAGES_DIR, image_name)\n",
    "\n",
    "       \n",
    "        if not download_image(image_url, image_path):\n",
    "            predictions.append('Link not working')\n",
    "            continue\n",
    "        \n",
    "       \n",
    "        prediction = get_prediction(image_path)\n",
    "        predictions.append(prediction)\n",
    "        \n",
    "        \n",
    "        try:\n",
    "            os.remove(image_path)\n",
    "        except Exception as e:\n",
    "            print(f\"Exception occurred while removing image file: {e}\")\n",
    "\n",
    "    return predictions"
   ]
  },
  {
   "cell_type": "code",
   "execution_count": 20,
   "metadata": {},
   "outputs": [],
   "source": [
    "def remove_brackets(value):\n",
    "    if isinstance(value, list):\n",
    "        return ', '.join(f'{item[0]} {item[1]:.2f}' for item in value) if value else 'none'\n",
    "    return value"
   ]
  },
  {
   "cell_type": "code",
   "execution_count": 21,
   "metadata": {},
   "outputs": [],
   "source": [
    "def process_df(df):\n",
    "    for i in range(0,len(df),DF_SPLITS_ROW):\n",
    "        proc_df = df.iloc[i:i+DF_SPLITS_ROW]\n",
    "\n",
    "        preds = predictions_df(proc_df)\n",
    "\n",
    "        proc_df['Prediction'] = preds\n",
    "        proc_df['Prediction'] = proc_df['Prediction'].apply(remove_brackets)\n",
    "\n",
    "\n",
    "        csv_name = f'{OUTPUT_CSV}/output_{i}.csv'\n",
    "        proc_df.to_csv(csv_name, index=False)"
   ]
  },
  {
   "cell_type": "code",
   "execution_count": 23,
   "metadata": {},
   "outputs": [
    {
     "name": "stderr",
     "output_type": "stream",
     "text": [
      "  2%|▏         | 8/500 [00:43<45:35,  5.56s/it]"
     ]
    },
    {
     "ename": "",
     "evalue": "",
     "output_type": "error",
     "traceback": [
      "\u001b[1;31mThe Kernel crashed while executing code in the current cell or a previous cell. \n",
      "\u001b[1;31mPlease review the code in the cell(s) to identify a possible cause of the failure. \n",
      "\u001b[1;31mClick <a href='https://aka.ms/vscodeJupyterKernelCrash'>here</a> for more info. \n",
      "\u001b[1;31mView Jupyter <a href='command:jupyter.viewOutput'>log</a> for further details."
     ]
    }
   ],
   "source": [
    "process_df(df)"
   ]
  },
  {
   "cell_type": "code",
   "execution_count": null,
   "metadata": {},
   "outputs": [],
   "source": []
  }
 ],
 "metadata": {
  "kernelspec": {
   "display_name": ".venv",
   "language": "python",
   "name": "python3"
  },
  "language_info": {
   "codemirror_mode": {
    "name": "ipython",
    "version": 3
   },
   "file_extension": ".py",
   "mimetype": "text/x-python",
   "name": "python",
   "nbconvert_exporter": "python",
   "pygments_lexer": "ipython3",
   "version": "3.11.5"
  }
 },
 "nbformat": 4,
 "nbformat_minor": 2
}
