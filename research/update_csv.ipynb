{
 "cells": [
  {
   "cell_type": "code",
   "execution_count": 1,
   "metadata": {},
   "outputs": [],
   "source": [
    "import os\n",
    "import pandas as pd\n",
    "import requests\n",
    "from tqdm import tqdm\n",
    "from concurrent.futures import ThreadPoolExecutor, as_completed"
   ]
  },
  {
   "cell_type": "code",
   "execution_count": 2,
   "metadata": {},
   "outputs": [],
   "source": [
    "API_ENDPOINT = \"http://127.0.0.1:5050/predict\"\n",
    "IMAGES_DIR = 'save/images'\n",
    "OUTPUT_CSV = 'csv_files'\n",
    "DF_SPLITS_ROW = 500"
   ]
  },
  {
   "cell_type": "code",
   "execution_count": 3,
   "metadata": {},
   "outputs": [
    {
     "data": {
      "text/html": [
       "<div>\n",
       "<style scoped>\n",
       "    .dataframe tbody tr th:only-of-type {\n",
       "        vertical-align: middle;\n",
       "    }\n",
       "\n",
       "    .dataframe tbody tr th {\n",
       "        vertical-align: top;\n",
       "    }\n",
       "\n",
       "    .dataframe thead th {\n",
       "        text-align: right;\n",
       "    }\n",
       "</style>\n",
       "<table border=\"1\" class=\"dataframe\">\n",
       "  <thead>\n",
       "    <tr style=\"text-align: right;\">\n",
       "      <th></th>\n",
       "      <th>Date</th>\n",
       "      <th>Time</th>\n",
       "      <th>Longitude</th>\n",
       "      <th>Latitude</th>\n",
       "      <th>Image</th>\n",
       "      <th>OutletCode</th>\n",
       "      <th>OutletName</th>\n",
       "      <th>OutletCategory1</th>\n",
       "      <th>OutletCategory2</th>\n",
       "      <th>OutletCategory3</th>\n",
       "      <th>OutletCategory4</th>\n",
       "      <th>UserName</th>\n",
       "      <th>UserRole</th>\n",
       "      <th>Category</th>\n",
       "      <th>NodeName</th>\n",
       "    </tr>\n",
       "  </thead>\n",
       "  <tbody>\n",
       "    <tr>\n",
       "      <th>0</th>\n",
       "      <td>1/11/2024 0:00</td>\n",
       "      <td>9:58:00</td>\n",
       "      <td>80.25455</td>\n",
       "      <td>7.23361</td>\n",
       "      <td>https://surge.lk/Myfiles/RetailerImages/138228...</td>\n",
       "      <td>IC024745</td>\n",
       "      <td>ASHOKA STO.</td>\n",
       "      <td>ICE CREAM_OUTLET HIERARCHY</td>\n",
       "      <td>GENERAL TRADE MAIN (N)</td>\n",
       "      <td>GENERAL TRADE MAIN (N) / GROCERIES (N)</td>\n",
       "      <td>GENERAL TRADE MAIN (N) / GROCERIES (N) / GRADE...</td>\n",
       "      <td>H.Sasindu Lakshan 67103</td>\n",
       "      <td>CSR</td>\n",
       "      <td>1M  Visibility</td>\n",
       "      <td>H.Sasindu Lakshan 67103</td>\n",
       "    </tr>\n",
       "    <tr>\n",
       "      <th>1</th>\n",
       "      <td>1/11/2024 0:00</td>\n",
       "      <td>10:13:00</td>\n",
       "      <td>80.24391</td>\n",
       "      <td>7.23137</td>\n",
       "      <td>https://surge.lk/Myfiles/RetailerImages/138569...</td>\n",
       "      <td>IC046840</td>\n",
       "      <td>Aluth Kade</td>\n",
       "      <td>ICE CREAM_OUTLET HIERARCHY</td>\n",
       "      <td>GENERAL TRADE MAIN (N)</td>\n",
       "      <td>GENERAL TRADE MAIN (N) / GROCERIES (N)</td>\n",
       "      <td>GENERAL TRADE MAIN (N) / GROCERIES (N) / GRADE...</td>\n",
       "      <td>H.Sasindu Lakshan 67103</td>\n",
       "      <td>CSR</td>\n",
       "      <td>1M  Visibility</td>\n",
       "      <td>H.Sasindu Lakshan 67103</td>\n",
       "    </tr>\n",
       "    <tr>\n",
       "      <th>2</th>\n",
       "      <td>1/11/2024 0:00</td>\n",
       "      <td>10:13:00</td>\n",
       "      <td>80.24389</td>\n",
       "      <td>7.23137</td>\n",
       "      <td>https://surge.lk/Myfiles/RetailerImages/138569...</td>\n",
       "      <td>IC046840</td>\n",
       "      <td>Aluth Kade</td>\n",
       "      <td>ICE CREAM_OUTLET HIERARCHY</td>\n",
       "      <td>GENERAL TRADE MAIN (N)</td>\n",
       "      <td>GENERAL TRADE MAIN (N) / GROCERIES (N)</td>\n",
       "      <td>GENERAL TRADE MAIN (N) / GROCERIES (N) / GRADE...</td>\n",
       "      <td>H.Sasindu Lakshan 67103</td>\n",
       "      <td>CSR</td>\n",
       "      <td>5M Visibility</td>\n",
       "      <td>H.Sasindu Lakshan 67103</td>\n",
       "    </tr>\n",
       "    <tr>\n",
       "      <th>3</th>\n",
       "      <td>1/11/2024 0:00</td>\n",
       "      <td>10:59:00</td>\n",
       "      <td>80.24363</td>\n",
       "      <td>7.23129</td>\n",
       "      <td>https://surge.lk/Myfiles/RetailerImages/306129...</td>\n",
       "      <td>IC158725</td>\n",
       "      <td>Online super</td>\n",
       "      <td>ICE CREAM_OUTLET HIERARCHY</td>\n",
       "      <td>GENERAL TRADE MAIN (N)</td>\n",
       "      <td>GENERAL TRADE MAIN (N) / GROCERIES (N)</td>\n",
       "      <td>GENERAL TRADE MAIN (N) / GROCERIES (N) / GRADE...</td>\n",
       "      <td>H.Sasindu Lakshan 67103</td>\n",
       "      <td>CSR</td>\n",
       "      <td>1M  Visibility</td>\n",
       "      <td>H.Sasindu Lakshan 67103</td>\n",
       "    </tr>\n",
       "    <tr>\n",
       "      <th>4</th>\n",
       "      <td>1/11/2024 0:00</td>\n",
       "      <td>11:19:00</td>\n",
       "      <td>80.23432</td>\n",
       "      <td>7.23823</td>\n",
       "      <td>https://surge.lk/Myfiles/RetailerImages/240896...</td>\n",
       "      <td>IC140438</td>\n",
       "      <td>Mihiri Stores</td>\n",
       "      <td>ICE CREAM_OUTLET HIERARCHY</td>\n",
       "      <td>GENERAL TRADE MAIN (N)</td>\n",
       "      <td>GENERAL TRADE MAIN (N) / GROCERIES (N)</td>\n",
       "      <td>GENERAL TRADE MAIN (N) / GROCERIES (N) / GRADE...</td>\n",
       "      <td>H.Sasindu Lakshan 67103</td>\n",
       "      <td>CSR</td>\n",
       "      <td>1M  Visibility</td>\n",
       "      <td>H.Sasindu Lakshan 67103</td>\n",
       "    </tr>\n",
       "  </tbody>\n",
       "</table>\n",
       "</div>"
      ],
      "text/plain": [
       "             Date      Time  Longitude  Latitude  \\\n",
       "0  1/11/2024 0:00   9:58:00   80.25455   7.23361   \n",
       "1  1/11/2024 0:00  10:13:00   80.24391   7.23137   \n",
       "2  1/11/2024 0:00  10:13:00   80.24389   7.23137   \n",
       "3  1/11/2024 0:00  10:59:00   80.24363   7.23129   \n",
       "4  1/11/2024 0:00  11:19:00   80.23432   7.23823   \n",
       "\n",
       "                                               Image OutletCode  \\\n",
       "0  https://surge.lk/Myfiles/RetailerImages/138228...   IC024745   \n",
       "1  https://surge.lk/Myfiles/RetailerImages/138569...   IC046840   \n",
       "2  https://surge.lk/Myfiles/RetailerImages/138569...   IC046840   \n",
       "3  https://surge.lk/Myfiles/RetailerImages/306129...   IC158725   \n",
       "4  https://surge.lk/Myfiles/RetailerImages/240896...   IC140438   \n",
       "\n",
       "      OutletName             OutletCategory1         OutletCategory2  \\\n",
       "0    ASHOKA STO.  ICE CREAM_OUTLET HIERARCHY  GENERAL TRADE MAIN (N)   \n",
       "1     Aluth Kade  ICE CREAM_OUTLET HIERARCHY  GENERAL TRADE MAIN (N)   \n",
       "2     Aluth Kade  ICE CREAM_OUTLET HIERARCHY  GENERAL TRADE MAIN (N)   \n",
       "3   Online super  ICE CREAM_OUTLET HIERARCHY  GENERAL TRADE MAIN (N)   \n",
       "4  Mihiri Stores  ICE CREAM_OUTLET HIERARCHY  GENERAL TRADE MAIN (N)   \n",
       "\n",
       "                           OutletCategory3  \\\n",
       "0   GENERAL TRADE MAIN (N) / GROCERIES (N)   \n",
       "1   GENERAL TRADE MAIN (N) / GROCERIES (N)   \n",
       "2   GENERAL TRADE MAIN (N) / GROCERIES (N)   \n",
       "3   GENERAL TRADE MAIN (N) / GROCERIES (N)   \n",
       "4   GENERAL TRADE MAIN (N) / GROCERIES (N)   \n",
       "\n",
       "                                     OutletCategory4                 UserName  \\\n",
       "0  GENERAL TRADE MAIN (N) / GROCERIES (N) / GRADE...  H.Sasindu Lakshan 67103   \n",
       "1  GENERAL TRADE MAIN (N) / GROCERIES (N) / GRADE...  H.Sasindu Lakshan 67103   \n",
       "2  GENERAL TRADE MAIN (N) / GROCERIES (N) / GRADE...  H.Sasindu Lakshan 67103   \n",
       "3  GENERAL TRADE MAIN (N) / GROCERIES (N) / GRADE...  H.Sasindu Lakshan 67103   \n",
       "4  GENERAL TRADE MAIN (N) / GROCERIES (N) / GRADE...  H.Sasindu Lakshan 67103   \n",
       "\n",
       "  UserRole        Category                 NodeName  \n",
       "0      CSR  1M  Visibility  H.Sasindu Lakshan 67103  \n",
       "1      CSR  1M  Visibility  H.Sasindu Lakshan 67103  \n",
       "2      CSR   5M Visibility  H.Sasindu Lakshan 67103  \n",
       "3      CSR  1M  Visibility  H.Sasindu Lakshan 67103  \n",
       "4      CSR  1M  Visibility  H.Sasindu Lakshan 67103  "
      ]
     },
     "execution_count": 3,
     "metadata": {},
     "output_type": "execute_result"
    }
   ],
   "source": [
    "df = pd.read_csv('../data/raw/Nov_01st_to_07th.csv')\n",
    "df.head()"
   ]
  },
  {
   "cell_type": "code",
   "execution_count": 4,
   "metadata": {},
   "outputs": [],
   "source": [
    "if not os.path.exists(IMAGES_DIR):\n",
    "    os.makedirs(IMAGES_DIR)\n",
    "\n",
    "if not os.path.exists(OUTPUT_CSV):\n",
    "            os.makedirs(OUTPUT_CSV)"
   ]
  },
  {
   "cell_type": "code",
   "execution_count": 5,
   "metadata": {},
   "outputs": [],
   "source": [
    "def download_image(url, filename):\n",
    "    try:\n",
    "        response = requests.get(url, stream=True)\n",
    "        if response.status_code == 200:\n",
    "            with open(filename, 'wb') as f:\n",
    "                f.write(response.content)\n",
    "        else:\n",
    "            print(f\"Error downloading image from {url}\")\n",
    "            return False\n",
    "    except Exception as e:\n",
    "        print(f\"Exception occurred while downloading image from {url}: {e}\")\n",
    "        return False\n",
    "    return True"
   ]
  },
  {
   "cell_type": "code",
   "execution_count": 6,
   "metadata": {},
   "outputs": [],
   "source": [
    "def get_prediction(image_path):\n",
    "    try:\n",
    "        with open(image_path, 'rb') as f:\n",
    "            files = {'image': f}\n",
    "            response = requests.post(API_ENDPOINT, files=files)\n",
    "            if response.status_code == 200:\n",
    "                return response.json().get('board_types')\n",
    "            else:\n",
    "                print(f\"Error with API response: {response.status_code}\")\n",
    "                return 'Error'\n",
    "    except FileNotFoundError:\n",
    "        print(f\"File not found for prediction: {image_path}\")\n",
    "        return 'File not found'\n",
    "    except Exception as e:\n",
    "        print(f\"Exception occurred while getting prediction: {e}\")\n",
    "        return 'Error'"
   ]
  },
  {
   "cell_type": "code",
   "execution_count": 7,
   "metadata": {},
   "outputs": [],
   "source": [
    "def process_image(row):\n",
    "    image_url = row['Image']\n",
    "    image_name = os.path.basename(image_url)\n",
    "    image_path = os.path.join(IMAGES_DIR, image_name)\n",
    "\n",
    "    if download_image(image_url, image_path):\n",
    "        prediction = get_prediction(image_path)\n",
    "        os.remove(image_path)\n",
    "    else:\n",
    "        prediction = 'link not working'\n",
    "    \n",
    "    return prediction"
   ]
  },
  {
   "cell_type": "code",
   "execution_count": 8,
   "metadata": {},
   "outputs": [],
   "source": [
    "def predictions_df(df):\n",
    "    predictions = []\n",
    "    for index, row in tqdm(df.iterrows(), total=df.shape[0]):\n",
    "        image_url = row['Image']\n",
    "        image_name = os.path.basename(image_url)\n",
    "        image_path = os.path.join(IMAGES_DIR, image_name)\n",
    "\n",
    "       \n",
    "        if not download_image(image_url, image_path):\n",
    "            predictions.append('Link not working')\n",
    "            continue\n",
    "        \n",
    "       \n",
    "        prediction = get_prediction(image_path)\n",
    "        predictions.append(prediction)\n",
    "        \n",
    "        \n",
    "        try:\n",
    "            os.remove(image_path)\n",
    "        except Exception as e:\n",
    "            print(f\"Exception occurred while removing image file: {e}\")\n",
    "\n",
    "    return predictions"
   ]
  },
  {
   "cell_type": "code",
   "execution_count": 9,
   "metadata": {},
   "outputs": [],
   "source": [
    "def remove_brackets(value):\n",
    "    if isinstance(value, list):\n",
    "        return ', '.join(f'{item[0]} {item[1]:.2f}' for item in value) if value else 'none'\n",
    "    return value"
   ]
  },
  {
   "cell_type": "code",
   "execution_count": 10,
   "metadata": {},
   "outputs": [],
   "source": [
    "def process_df(df):\n",
    "    for i in range(0,len(df),DF_SPLITS_ROW):\n",
    "        proc_df = df.iloc[i:i+DF_SPLITS_ROW]\n",
    "\n",
    "        preds = predictions_df(proc_df)\n",
    "\n",
    "        proc_df['Prediction'] = preds\n",
    "        proc_df['Prediction'] = proc_df['Prediction'].apply(remove_brackets)\n",
    "\n",
    "\n",
    "        csv_name = f'{OUTPUT_CSV}/output_{i}.csv'\n",
    "        proc_df.to_csv(csv_name, index=False)"
   ]
  },
  {
   "cell_type": "code",
   "execution_count": 11,
   "metadata": {},
   "outputs": [
    {
     "name": "stderr",
     "output_type": "stream",
     "text": [
      "  0%|          | 0/500 [00:00<?, ?it/s]"
     ]
    },
    {
     "name": "stderr",
     "output_type": "stream",
     "text": [
      "  7%|▋         | 35/500 [04:00<40:10,  5.18s/it]  "
     ]
    },
    {
     "name": "stdout",
     "output_type": "stream",
     "text": [
      "Error downloading image from https://surge.lk/Myfiles/RetailerImages/1359342513scaled_fedbb070-98e5-46dc-a0c1-b5b1e2027e9f195223000069533293.jpg\n"
     ]
    },
    {
     "name": "stderr",
     "output_type": "stream",
     "text": [
      "  7%|▋         | 36/500 [04:02<32:05,  4.15s/it]"
     ]
    },
    {
     "name": "stdout",
     "output_type": "stream",
     "text": [
      "Error downloading image from https://surge.lk/Myfiles/RetailerImages/1359342513scaled_5893e2e5-0020-4bf4-bf7c-8d2185c64cff9185153058143696034.jpg\n"
     ]
    },
    {
     "name": "stderr",
     "output_type": "stream",
     "text": [
      " 53%|█████▎    | 265/500 [26:12<22:20,  5.71s/it] "
     ]
    },
    {
     "name": "stdout",
     "output_type": "stream",
     "text": [
      "Error downloading image from https://surge.lk/Myfiles/RetailerImages/1352532513scaled_066bece4-c282-4134-a217-5dd752a17e103821701782940378259.jpg\n"
     ]
    },
    {
     "name": "stderr",
     "output_type": "stream",
     "text": [
      " 53%|█████▎    | 266/500 [26:14<18:03,  4.63s/it]"
     ]
    },
    {
     "name": "stdout",
     "output_type": "stream",
     "text": [
      "Error downloading image from https://surge.lk/Myfiles/RetailerImages/2689552513scaled_488211d3-401c-44b5-befc-c3c527f5a0138628804273110643977.jpg\n"
     ]
    },
    {
     "name": "stderr",
     "output_type": "stream",
     "text": [
      " 54%|█████▍    | 271/500 [26:46<19:51,  5.20s/it]"
     ]
    },
    {
     "name": "stdout",
     "output_type": "stream",
     "text": [
      "Error downloading image from https://surge.lk/Myfiles/RetailerImages/1352452513scaled_d8c3ea30-c448-4aa2-946e-21a0b07610f25748461858801715679.jpg\n"
     ]
    },
    {
     "name": "stderr",
     "output_type": "stream",
     "text": [
      " 55%|█████▍    | 273/500 [26:56<19:03,  5.04s/it]"
     ]
    },
    {
     "name": "stdout",
     "output_type": "stream",
     "text": [
      "Error downloading image from https://surge.lk/Myfiles/RetailerImages/1357842513scaled_4fe3e375-04b8-4c19-9f9a-77c305fe9d7f1477003893999133287.jpg\n"
     ]
    },
    {
     "name": "stderr",
     "output_type": "stream",
     "text": [
      " 56%|█████▋    | 282/500 [29:33<2:06:46, 34.89s/it]"
     ]
    },
    {
     "name": "stdout",
     "output_type": "stream",
     "text": [
      "Exception occurred while downloading image from https://surge.lk/Myfiles/RetailerImages/3062061385scaled_ed2cabab-9e31-43a9-96c7-80af9da859a11454136661246582127.jpg: ('Connection broken: IncompleteRead(0 bytes read, 2234826 more expected)', IncompleteRead(0 bytes read, 2234826 more expected))\n"
     ]
    },
    {
     "name": "stderr",
     "output_type": "stream",
     "text": [
      " 59%|█████▊    | 293/500 [32:24<2:05:06, 36.26s/it]"
     ]
    },
    {
     "name": "stdout",
     "output_type": "stream",
     "text": [
      "Exception occurred while downloading image from https://surge.lk/Myfiles/RetailerImages/1014344128scaled_904b91f8-1690-48f7-a239-e41dc4113c7c2734769087754143212.jpg: ('Connection broken: IncompleteRead(0 bytes read, 5500405 more expected)', IncompleteRead(0 bytes read, 5500405 more expected))\n"
     ]
    },
    {
     "name": "stderr",
     "output_type": "stream",
     "text": [
      " 59%|█████▉    | 296/500 [32:44<54:33, 16.05s/it]  "
     ]
    },
    {
     "name": "stdout",
     "output_type": "stream",
     "text": [
      "Error downloading image from https://surge.lk/Myfiles/RetailerImages/1357042513scaled_4e300cf4-eaf2-4147-992d-acebfef57be56891566948733567048.jpg\n"
     ]
    },
    {
     "name": "stderr",
     "output_type": "stream",
     "text": [
      " 60%|██████    | 302/500 [33:19<21:03,  6.38s/it]"
     ]
    },
    {
     "name": "stdout",
     "output_type": "stream",
     "text": [
      "Error downloading image from https://surge.lk/Myfiles/RetailerImages/2155592513scaled_7d08e058-9c41-4f07-8f99-deede8c7ee9e6379699024583802311.jpg\n"
     ]
    },
    {
     "name": "stderr",
     "output_type": "stream",
     "text": [
      " 63%|██████▎   | 317/500 [36:36<1:46:18, 34.86s/it]"
     ]
    },
    {
     "name": "stdout",
     "output_type": "stream",
     "text": [
      "Exception occurred while downloading image from https://surge.lk/Myfiles/RetailerImages/119094808scaled_b084d024-7492-4f3c-957b-f5e11bd92aa92659010836956880729.jpg: ('Connection broken: IncompleteRead(0 bytes read, 2839525 more expected)', IncompleteRead(0 bytes read, 2839525 more expected))\n"
     ]
    },
    {
     "name": "stderr",
     "output_type": "stream",
     "text": [
      " 64%|██████▍   | 319/500 [36:45<57:42, 19.13s/it]  "
     ]
    },
    {
     "name": "stdout",
     "output_type": "stream",
     "text": [
      "Error downloading image from https://surge.lk/Myfiles/RetailerImages/1370572513scaled_3e788c48-872e-4b27-ad0c-269013ca5b247548968586619777145.jpg\n"
     ]
    },
    {
     "name": "stderr",
     "output_type": "stream",
     "text": [
      " 67%|██████▋   | 334/500 [38:10<12:01,  4.35s/it]"
     ]
    },
    {
     "name": "stdout",
     "output_type": "stream",
     "text": [
      "Error downloading image from https://surge.lk/Myfiles/RetailerImages/1372052513scaled_08f077a1-ad46-40c2-92fc-8b4fd1009a056488716077258964160.jpg\n"
     ]
    },
    {
     "name": "stderr",
     "output_type": "stream",
     "text": [
      " 70%|███████   | 350/500 [41:27<1:29:04, 35.63s/it]"
     ]
    },
    {
     "name": "stdout",
     "output_type": "stream",
     "text": [
      "Exception occurred while downloading image from https://surge.lk/Myfiles/RetailerImages/1414624495scaled_95819e42-0c91-41bb-8f3f-ed34dc0b494f4526278046612833142.jpg: ('Connection broken: IncompleteRead(0 bytes read, 2539360 more expected)', IncompleteRead(0 bytes read, 2539360 more expected))\n"
     ]
    },
    {
     "name": "stderr",
     "output_type": "stream",
     "text": [
      " 74%|███████▍  | 370/500 [43:47<12:59,  5.99s/it]  "
     ]
    },
    {
     "name": "stdout",
     "output_type": "stream",
     "text": [
      "Error downloading image from https://surge.lk/Myfiles/RetailerImages/2283054457scaled_7dc2c87e-69c3-4edb-9835-ed50f5bf00643770841284580772797.jpg\n"
     ]
    },
    {
     "name": "stderr",
     "output_type": "stream",
     "text": [
      " 75%|███████▌  | 377/500 [44:32<12:03,  5.88s/it]"
     ]
    },
    {
     "name": "stdout",
     "output_type": "stream",
     "text": [
      "Error downloading image from https://surge.lk/Myfiles/RetailerImages/2365134457scaled_a8221e02-6b6e-42f8-9f6a-fbc6f76aea3e7598867108342399001.jpg\n"
     ]
    },
    {
     "name": "stderr",
     "output_type": "stream",
     "text": [
      " 76%|███████▌  | 379/500 [44:42<10:33,  5.23s/it]"
     ]
    },
    {
     "name": "stdout",
     "output_type": "stream",
     "text": [
      "Error downloading image from https://surge.lk/Myfiles/RetailerImages/1359762513scaled_caae2be1-1e3f-4086-9a92-1b56a12f45a01304168746669016204.jpg\n"
     ]
    },
    {
     "name": "stderr",
     "output_type": "stream",
     "text": [
      " 77%|███████▋  | 387/500 [45:41<11:15,  5.98s/it]"
     ]
    },
    {
     "name": "stdout",
     "output_type": "stream",
     "text": [
      "Error downloading image from https://surge.lk/Myfiles/RetailerImages/2598392513scaled_5ff8f58b-3baa-47c4-9d65-fa7a03073c484982624406155828575.jpg\n"
     ]
    },
    {
     "name": "stderr",
     "output_type": "stream",
     "text": [
      " 78%|███████▊  | 391/500 [46:03<08:55,  4.91s/it]"
     ]
    },
    {
     "name": "stdout",
     "output_type": "stream",
     "text": [
      "Error downloading image from https://surge.lk/Myfiles/RetailerImages/1357392513scaled_f191c291-4840-4c3a-80d0-d6012648e9036856034500710966255.jpg\n"
     ]
    },
    {
     "name": "stderr",
     "output_type": "stream",
     "text": [
      " 79%|███████▉  | 394/500 [46:17<07:49,  4.43s/it]"
     ]
    },
    {
     "name": "stdout",
     "output_type": "stream",
     "text": [
      "Error downloading image from https://surge.lk/Myfiles/RetailerImages/1357462513scaled_c0a86806-4c97-4fe5-868b-90a87637b3851048958573397491622.jpg\n"
     ]
    },
    {
     "name": "stderr",
     "output_type": "stream",
     "text": [
      " 81%|████████  | 403/500 [47:15<09:41,  5.99s/it]"
     ]
    },
    {
     "name": "stdout",
     "output_type": "stream",
     "text": [
      "Error downloading image from https://surge.lk/Myfiles/RetailerImages/1371572513scaled_763a4297-c223-4e5e-bc9c-5205969a9a68871006460932779819.jpg\n"
     ]
    },
    {
     "name": "stderr",
     "output_type": "stream",
     "text": [
      " 81%|████████  | 406/500 [47:27<06:47,  4.33s/it]"
     ]
    },
    {
     "name": "stdout",
     "output_type": "stream",
     "text": [
      "Error downloading image from https://surge.lk/Myfiles/RetailerImages/1371572513scaled_763a4297-c223-4e5e-bc9c-5205969a9a68871006460932779819.jpg\n"
     ]
    },
    {
     "name": "stderr",
     "output_type": "stream",
     "text": [
      " 99%|█████████▉| 494/500 [57:22<00:26,  4.38s/it]"
     ]
    },
    {
     "name": "stdout",
     "output_type": "stream",
     "text": [
      "Error downloading image from https://surge.lk/Myfiles/RetailerImages/1355102513scaled_52c235bb-2da6-4458-8b2d-5bfde66f89783267264117894346934.jpg\n"
     ]
    },
    {
     "name": "stderr",
     "output_type": "stream",
     "text": [
      "100%|██████████| 500/500 [58:01<00:00,  6.96s/it]\n",
      "C:\\Users\\PC\\AppData\\Local\\Temp\\ipykernel_8092\\3679421408.py:7: SettingWithCopyWarning: \n",
      "A value is trying to be set on a copy of a slice from a DataFrame.\n",
      "Try using .loc[row_indexer,col_indexer] = value instead\n",
      "\n",
      "See the caveats in the documentation: https://pandas.pydata.org/pandas-docs/stable/user_guide/indexing.html#returning-a-view-versus-a-copy\n",
      "  proc_df['Prediction'] = preds\n",
      "C:\\Users\\PC\\AppData\\Local\\Temp\\ipykernel_8092\\3679421408.py:8: SettingWithCopyWarning: \n",
      "A value is trying to be set on a copy of a slice from a DataFrame.\n",
      "Try using .loc[row_indexer,col_indexer] = value instead\n",
      "\n",
      "See the caveats in the documentation: https://pandas.pydata.org/pandas-docs/stable/user_guide/indexing.html#returning-a-view-versus-a-copy\n",
      "  proc_df['Prediction'] = proc_df['Prediction'].apply(remove_brackets)\n",
      "  1%|          | 2/214 [00:09<16:36,  4.70s/it]"
     ]
    },
    {
     "name": "stdout",
     "output_type": "stream",
     "text": [
      "Error downloading image from https://surge.lk/Myfiles/RetailerImages/2870552513scaled_58f6ce45-902b-4e03-bf41-aaf50bdc74225978116252737965696.jpg\n"
     ]
    },
    {
     "name": "stderr",
     "output_type": "stream",
     "text": [
      "  2%|▏         | 4/214 [00:20<16:05,  4.60s/it]"
     ]
    },
    {
     "name": "stdout",
     "output_type": "stream",
     "text": [
      "Error downloading image from https://surge.lk/Myfiles/RetailerImages/2583312513scaled_c84ec260-fca5-4ae6-b46d-b0f9621896082270941596826694567.jpg\n"
     ]
    },
    {
     "name": "stderr",
     "output_type": "stream",
     "text": [
      "  3%|▎         | 6/214 [00:28<14:00,  4.04s/it]"
     ]
    },
    {
     "name": "stdout",
     "output_type": "stream",
     "text": [
      "Error downloading image from https://surge.lk/Myfiles/RetailerImages/2583312513scaled_49316043-3bb9-4f28-92d2-4bc5e8a5f8957918587167328214749.jpg\n"
     ]
    },
    {
     "name": "stderr",
     "output_type": "stream",
     "text": [
      " 12%|█▏        | 26/214 [02:35<15:39,  5.00s/it]"
     ]
    },
    {
     "name": "stdout",
     "output_type": "stream",
     "text": [
      "Error downloading image from https://surge.lk/Myfiles/RetailerImages/1359332513scaled_5beaa236-4719-4c86-87d1-5b49ae9399ac3170202265768460065.jpg\n"
     ]
    },
    {
     "name": "stderr",
     "output_type": "stream",
     "text": [
      " 15%|█▍        | 32/214 [03:05<12:24,  4.09s/it]"
     ]
    },
    {
     "name": "stdout",
     "output_type": "stream",
     "text": [
      "Error downloading image from https://surge.lk/Myfiles/RetailerImages/2107632513scaled_c4316dc4-5e0f-4fd5-a1da-5c86fa7490bb6948492770497737092.jpg\n"
     ]
    },
    {
     "name": "stderr",
     "output_type": "stream",
     "text": [
      " 16%|█▋        | 35/214 [03:16<10:00,  3.36s/it]"
     ]
    },
    {
     "name": "stdout",
     "output_type": "stream",
     "text": [
      "Error downloading image from https://surge.lk/Myfiles/RetailerImages/1359312513scaled_ba4df2cf-10cb-4411-8958-a71fa9f1e9ed8040636297620282486.jpg\n"
     ]
    },
    {
     "name": "stderr",
     "output_type": "stream",
     "text": [
      " 18%|█▊        | 39/214 [03:35<11:10,  3.83s/it]"
     ]
    },
    {
     "name": "stdout",
     "output_type": "stream",
     "text": [
      "Error downloading image from https://surge.lk/Myfiles/RetailerImages/3024642513scaled_3f2721d1-de9e-4a6e-9777-26dbed6cb5394510119998639844442.jpg\n"
     ]
    },
    {
     "name": "stderr",
     "output_type": "stream",
     "text": [
      " 21%|██        | 45/214 [04:05<12:19,  4.37s/it]"
     ]
    },
    {
     "name": "stdout",
     "output_type": "stream",
     "text": [
      "Error downloading image from https://surge.lk/Myfiles/RetailerImages/2397982513scaled_2e843076-ef54-4bf1-afab-1ed84d60c0194769154479211213429.jpg\n"
     ]
    },
    {
     "name": "stderr",
     "output_type": "stream",
     "text": [
      " 23%|██▎       | 50/214 [04:38<15:59,  5.85s/it]"
     ]
    },
    {
     "name": "stdout",
     "output_type": "stream",
     "text": [
      "Error downloading image from https://surge.lk/Myfiles/RetailerImages/1357312513scaled_f3edd8df-4601-4687-bd96-c24b6e4662559015327866519891879.jpg\n"
     ]
    },
    {
     "name": "stderr",
     "output_type": "stream",
     "text": [
      " 29%|██▊       | 61/214 [05:23<08:48,  3.45s/it]"
     ]
    },
    {
     "name": "stdout",
     "output_type": "stream",
     "text": [
      "Error downloading image from https://surge.lk/Myfiles/RetailerImages/2560722513scaled_898fe671-69b6-4c10-a2fb-2f7b576e1ade4928024761347723761.jpg\n"
     ]
    },
    {
     "name": "stderr",
     "output_type": "stream",
     "text": [
      " 35%|███▍      | 74/214 [06:24<08:13,  3.53s/it]"
     ]
    },
    {
     "name": "stdout",
     "output_type": "stream",
     "text": [
      "Error downloading image from https://surge.lk/Myfiles/RetailerImages/2307432513scaled_c65e2e17-1599-4a43-8f1a-9f83f368eca31480180480567834720.jpg\n"
     ]
    },
    {
     "name": "stderr",
     "output_type": "stream",
     "text": [
      " 40%|███▉      | 85/214 [07:14<07:00,  3.26s/it]"
     ]
    },
    {
     "name": "stdout",
     "output_type": "stream",
     "text": [
      "Error downloading image from https://surge.lk/Myfiles/RetailerImages/1352962513scaled_d4bcf61e-fedd-4a5a-8713-b06c9fc0b4324133301634855660265.jpg\n"
     ]
    },
    {
     "name": "stderr",
     "output_type": "stream",
     "text": [
      " 41%|████      | 88/214 [07:25<06:29,  3.09s/it]"
     ]
    },
    {
     "name": "stdout",
     "output_type": "stream",
     "text": [
      "Error downloading image from https://surge.lk/Myfiles/RetailerImages/1354972513scaled_998265d4-5ec1-4e63-a5c1-c7fbe21ee55f2055782545472380.jpg\n"
     ]
    },
    {
     "name": "stderr",
     "output_type": "stream",
     "text": [
      " 44%|████▍     | 94/214 [07:49<06:32,  3.27s/it]"
     ]
    },
    {
     "name": "stdout",
     "output_type": "stream",
     "text": [
      "Error downloading image from https://surge.lk/Myfiles/RetailerImages/1357982513scaled_e2e10603-8127-4361-9a0a-a807a77b693d5505793149174455214.jpg\n"
     ]
    },
    {
     "name": "stderr",
     "output_type": "stream",
     "text": [
      " 48%|████▊     | 103/214 [08:31<06:33,  3.54s/it]"
     ]
    },
    {
     "name": "stdout",
     "output_type": "stream",
     "text": [
      "Error downloading image from https://surge.lk/Myfiles/RetailerImages/1357372513scaled_e2943c05-55c8-4951-99f0-325feac36b446967031313521018998.jpg\n"
     ]
    },
    {
     "name": "stderr",
     "output_type": "stream",
     "text": [
      " 52%|█████▏    | 111/214 [09:11<06:49,  3.98s/it]"
     ]
    },
    {
     "name": "stdout",
     "output_type": "stream",
     "text": [
      "Error downloading image from https://surge.lk/Myfiles/RetailerImages/1351192513scaled_5005c934-56a8-449e-a77c-b6493188a13e2340692978702306317.jpg\n"
     ]
    },
    {
     "name": "stderr",
     "output_type": "stream",
     "text": [
      " 58%|█████▊    | 125/214 [10:14<05:13,  3.52s/it]"
     ]
    },
    {
     "name": "stdout",
     "output_type": "stream",
     "text": [
      "Error downloading image from https://surge.lk/Myfiles/RetailerImages/1353252513scaled_5ce40be4-4ebc-4de1-aafe-181fb4f3929f2407031522529504469.jpg\n"
     ]
    },
    {
     "name": "stderr",
     "output_type": "stream",
     "text": [
      " 61%|██████    | 131/214 [10:43<05:15,  3.80s/it]"
     ]
    },
    {
     "name": "stdout",
     "output_type": "stream",
     "text": [
      "Error downloading image from https://surge.lk/Myfiles/RetailerImages/2007952513scaled_fd81fcae-ccb2-4135-b59d-30e32ac559a81369679472970179816.jpg\n"
     ]
    },
    {
     "name": "stderr",
     "output_type": "stream",
     "text": [
      " 63%|██████▎   | 134/214 [10:53<04:10,  3.13s/it]"
     ]
    },
    {
     "name": "stdout",
     "output_type": "stream",
     "text": [
      "Error downloading image from https://surge.lk/Myfiles/RetailerImages/2007952513scaled_0bb5f89d-a474-41b1-88aa-d5225feab6947683683789735807893.jpg\n"
     ]
    },
    {
     "name": "stderr",
     "output_type": "stream",
     "text": [
      " 75%|███████▌  | 161/214 [13:20<04:43,  5.35s/it]"
     ]
    },
    {
     "name": "stdout",
     "output_type": "stream",
     "text": [
      "Error downloading image from https://surge.lk/Myfiles/RetailerImages/2570682513scaled_f04c6eca-9a22-45f8-9554-8d26862915c44446624789232172338.jpg\n"
     ]
    },
    {
     "name": "stderr",
     "output_type": "stream",
     "text": [
      " 76%|███████▌  | 162/214 [13:21<03:34,  4.12s/it]"
     ]
    },
    {
     "name": "stdout",
     "output_type": "stream",
     "text": [
      "Error downloading image from https://surge.lk/Myfiles/RetailerImages/2583352513scaled_c6ba2829-5b5c-4c99-bc04-ea0ae131ccc34729455034014981125.jpg\n"
     ]
    },
    {
     "name": "stderr",
     "output_type": "stream",
     "text": [
      " 78%|███████▊  | 166/214 [13:52<04:59,  6.23s/it]"
     ]
    },
    {
     "name": "stdout",
     "output_type": "stream",
     "text": [
      "Error downloading image from https://surge.lk/Myfiles/RetailerImages/1359262513scaled_578b9591-bd55-4161-a177-057e48179dfa212829129348238398.jpg\n"
     ]
    },
    {
     "name": "stderr",
     "output_type": "stream",
     "text": [
      " 82%|████████▏ | 176/214 [14:52<03:06,  4.90s/it]"
     ]
    },
    {
     "name": "stdout",
     "output_type": "stream",
     "text": [
      "Error downloading image from https://surge.lk/Myfiles/RetailerImages/1358852513scaled_7e739ce7-c434-4d66-920b-234113d1ec2c2910969236623136801.jpg\n"
     ]
    },
    {
     "name": "stderr",
     "output_type": "stream",
     "text": [
      "100%|██████████| 214/214 [19:26<00:00,  5.45s/it]\n",
      "C:\\Users\\PC\\AppData\\Local\\Temp\\ipykernel_8092\\3679421408.py:7: SettingWithCopyWarning: \n",
      "A value is trying to be set on a copy of a slice from a DataFrame.\n",
      "Try using .loc[row_indexer,col_indexer] = value instead\n",
      "\n",
      "See the caveats in the documentation: https://pandas.pydata.org/pandas-docs/stable/user_guide/indexing.html#returning-a-view-versus-a-copy\n",
      "  proc_df['Prediction'] = preds\n",
      "C:\\Users\\PC\\AppData\\Local\\Temp\\ipykernel_8092\\3679421408.py:8: SettingWithCopyWarning: \n",
      "A value is trying to be set on a copy of a slice from a DataFrame.\n",
      "Try using .loc[row_indexer,col_indexer] = value instead\n",
      "\n",
      "See the caveats in the documentation: https://pandas.pydata.org/pandas-docs/stable/user_guide/indexing.html#returning-a-view-versus-a-copy\n",
      "  proc_df['Prediction'] = proc_df['Prediction'].apply(remove_brackets)\n"
     ]
    }
   ],
   "source": [
    "process_df(df)"
   ]
  },
  {
   "cell_type": "code",
   "execution_count": null,
   "metadata": {},
   "outputs": [],
   "source": []
  }
 ],
 "metadata": {
  "kernelspec": {
   "display_name": ".venv",
   "language": "python",
   "name": "python3"
  },
  "language_info": {
   "codemirror_mode": {
    "name": "ipython",
    "version": 3
   },
   "file_extension": ".py",
   "mimetype": "text/x-python",
   "name": "python",
   "nbconvert_exporter": "python",
   "pygments_lexer": "ipython3",
   "version": "3.11.5"
  }
 },
 "nbformat": 4,
 "nbformat_minor": 2
}
